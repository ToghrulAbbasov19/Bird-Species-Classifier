{
  "cells": [
    {
      "cell_type": "code",
      "execution_count": 1,
      "metadata": {
        "colab": {
          "base_uri": "https://localhost:8080/"
        },
        "id": "dNw51zRX1Qdz",
        "outputId": "d875876b-d568-4aee-ddf1-cdf53dab1611"
      },
      "outputs": [
        {
          "output_type": "stream",
          "name": "stdout",
          "text": [
            "Mounted at /content/drive\n"
          ]
        }
      ],
      "source": [
        "from google.colab import drive\n",
        "drive.mount(\"/content/drive\")"
      ]
    },
    {
      "cell_type": "code",
      "execution_count": 2,
      "metadata": {
        "id": "i3rqI8sR8Q3S"
      },
      "outputs": [],
      "source": [
        "import torch\n",
        "from torchvision import transforms\n",
        "from torchvision import datasets\n",
        "import pandas as pd\n",
        "import cv2\n",
        "import os\n",
        "from PIL import Image\n",
        "import matplotlib.pyplot as plt\n",
        "from sklearn.model_selection import train_test_split\n",
        "import random\n",
        "from torch.utils.data import DataLoader\n",
        "import torch.nn as nn\n",
        "from torchvision.datasets import ImageFolder\n",
        "import numpy as np"
      ]
    },
    {
      "cell_type": "code",
      "execution_count": 3,
      "metadata": {
        "colab": {
          "base_uri": "https://localhost:8080/",
          "height": 36
        },
        "id": "WoOJiuQCXKW0",
        "outputId": "952e1aae-b4db-4817-eabc-950e08aa6d45"
      },
      "outputs": [
        {
          "output_type": "execute_result",
          "data": {
            "text/plain": [
              "'cuda'"
            ],
            "application/vnd.google.colaboratory.intrinsic+json": {
              "type": "string"
            }
          },
          "metadata": {},
          "execution_count": 3
        }
      ],
      "source": [
        "device = 'cuda' if torch.cuda.is_available() else 'cpu'\n",
        "device"
      ]
    },
    {
      "cell_type": "code",
      "execution_count": 4,
      "metadata": {
        "id": "IOU4uOGe8TVc"
      },
      "outputs": [],
      "source": [
        "#Transforms\n",
        "train_transform=transforms.Compose([\n",
        "    transforms.Resize(size=(224,224)),\n",
        "    transforms.RandomHorizontalFlip(p=0.5),\n",
        "    transforms.RandomRotation(degrees=(-10, +10)),\n",
        "    # transforms.TrivialAugmentWide(num_magnitude_bins=5),\n",
        "    transforms.ToTensor()\n",
        "])\n",
        "\n",
        "valid_transform=transforms.Compose([\n",
        "    transforms.Resize(size=(224,224)),\n",
        "    transforms.ToTensor()\n",
        "])\n",
        "\n",
        "\n",
        "test_transform=transforms.Compose([\n",
        "    transforms.Resize(size=(224,224)),\n",
        "    transforms.ToTensor()\n",
        "])\n"
      ]
    },
    {
      "cell_type": "code",
      "execution_count": 5,
      "metadata": {
        "id": "VE46L79TUzOI"
      },
      "outputs": [],
      "source": [
        "# Directories for train, valid, test datasets\n",
        "train_dir=\"/content/drive/MyDrive/bird_dataset/train\"\n",
        "valid_dir=\"/content/drive/MyDrive/bird_dataset/valid\"\n",
        "test_dir=\"/content/drive/MyDrive/bird_dataset/test\"\n",
        "data_train=ImageFolder(train_dir, train_transform)\n",
        "data_valid=ImageFolder(valid_dir, valid_transform)\n",
        "data_test=ImageFolder(test_dir, test_transform)\n",
        "\n"
      ]
    },
    {
      "cell_type": "code",
      "execution_count": 6,
      "metadata": {
        "colab": {
          "base_uri": "https://localhost:8080/"
        },
        "id": "oTNhA2BGW3i-",
        "outputId": "c67a32d1-4165-4526-9d57-bd462224953d"
      },
      "outputs": [
        {
          "output_type": "execute_result",
          "data": {
            "text/plain": [
              "{'ALBATROSS': 0,\n",
              " 'AMERICAN AVOCET': 1,\n",
              " 'BLACK SWAN': 2,\n",
              " 'CACTUS WREN': 3,\n",
              " 'CHINESE BAMBOO PARTRIDGE': 4,\n",
              " 'COMMON STARLING': 5,\n",
              " 'CUBAN TROGON': 6,\n",
              " 'GREAT ARGUS': 7,\n",
              " 'JAVA SPARROW': 8,\n",
              " 'PUFFIN': 9,\n",
              " 'WILD TURKEY': 10,\n",
              " 'ZEBRA DOVE': 11}"
            ]
          },
          "metadata": {},
          "execution_count": 6
        }
      ],
      "source": [
        "data_train.class_to_idx"
      ]
    },
    {
      "cell_type": "code",
      "execution_count": 7,
      "metadata": {
        "id": "6cIKDy7uVtHT"
      },
      "outputs": [],
      "source": [
        "train_loader=DataLoader(data_train, batch_size=16, shuffle=True)\n",
        "valid_loader=DataLoader(data_valid, batch_size=16)\n",
        "test_loader=DataLoader(data_test)"
      ]
    },
    {
      "cell_type": "code",
      "execution_count": 8,
      "metadata": {
        "colab": {
          "base_uri": "https://localhost:8080/"
        },
        "id": "qftz-RrGgFbZ",
        "outputId": "2704a8ac-5a80-49b6-8811-89fcc8408948"
      },
      "outputs": [
        {
          "output_type": "execute_result",
          "data": {
            "text/plain": [
              "121"
            ]
          },
          "metadata": {},
          "execution_count": 8
        }
      ],
      "source": [
        "len(train_loader)"
      ]
    },
    {
      "cell_type": "code",
      "execution_count": 9,
      "metadata": {
        "id": "0uqMeaXB8Vv6"
      },
      "outputs": [],
      "source": [
        "class VGG19(nn.Module):\n",
        "  def __init__(self):\n",
        "    super().__init__()\n",
        "    self.conv1=nn.Sequential(nn.Conv2d(in_channels=3, out_channels=64, kernel_size=3, stride=1, padding=\"same\"),\n",
        "                             nn.ReLU(),\n",
        "                             nn.Conv2d(in_channels=64, out_channels=64, kernel_size=3, stride=1, padding=\"same\"),\n",
        "                             nn.ReLU(),\n",
        "                             nn.MaxPool2d(kernel_size=2, stride=2)\n",
        "                             )\n",
        "    self.conv2=nn.Sequential(nn.Conv2d(in_channels=64, out_channels=128, kernel_size=3, stride=1, padding=\"same\"),\n",
        "                             nn.ReLU(),\n",
        "                             nn.Conv2d(in_channels=128, out_channels=128, kernel_size=3, stride=1, padding=\"same\"),\n",
        "                             nn.ReLU(),\n",
        "                             nn.MaxPool2d(kernel_size=2, stride=2)\n",
        "                             )\n",
        "    self.conv3=nn.Sequential(nn.Conv2d(in_channels=128, out_channels=256, kernel_size=3, stride=1, padding=\"same\"),\n",
        "                             nn.ReLU(),\n",
        "                             nn.Conv2d(in_channels=256, out_channels=256, kernel_size=3, stride=1, padding=\"same\"),\n",
        "                             nn.ReLU(),\n",
        "                             nn.Conv2d(in_channels=256, out_channels=256, kernel_size=3, stride=1, padding=\"same\"),\n",
        "                             nn.ReLU(),\n",
        "                             nn.Conv2d(in_channels=256, out_channels=256, kernel_size=3, stride=1, padding=\"same\"),\n",
        "                             nn.ReLU(),\n",
        "                             nn.MaxPool2d(kernel_size=2, stride=2)\n",
        "                             )\n",
        "    self.conv4=nn.Sequential(nn.Conv2d(in_channels=256, out_channels=512, kernel_size=3, stride=1, padding=\"same\"),\n",
        "                             nn.ReLU(),\n",
        "                             nn.Conv2d(in_channels=512, out_channels=512, kernel_size=3, stride=1, padding=\"same\"),\n",
        "                             nn.ReLU(),\n",
        "                             nn.Conv2d(in_channels=512, out_channels=512, kernel_size=3, stride=1, padding=\"same\"),\n",
        "                             nn.ReLU(),\n",
        "                             nn.Conv2d(in_channels=512, out_channels=512, kernel_size=3, stride=1, padding=\"same\"),\n",
        "                             nn.ReLU(),\n",
        "                             nn.MaxPool2d(kernel_size=2, stride=2)\n",
        "                             )\n",
        "    self.conv5=nn.Sequential(nn.Conv2d(in_channels=512, out_channels=512, kernel_size=3, stride=1, padding=\"same\"),\n",
        "                             nn.ReLU(),\n",
        "                             nn.Conv2d(in_channels=512, out_channels=512, kernel_size=3, stride=1, padding=\"same\"),\n",
        "                             nn.ReLU(),\n",
        "                             nn.Conv2d(in_channels=512, out_channels=512, kernel_size=3, stride=1, padding=\"same\"),\n",
        "                             nn.ReLU(),\n",
        "                             nn.Conv2d(in_channels=512, out_channels=512, kernel_size=3, stride=1, padding=\"same\"),\n",
        "                             nn.ReLU(),\n",
        "                             nn.MaxPool2d(kernel_size=2, stride=2)\n",
        "                             )\n",
        "    self.conn=nn.Sequential(nn.Flatten(),\n",
        "                            nn.Linear(25088, 4096),\n",
        "                            nn.ReLU(),\n",
        "                            nn.Dropout(p=0.5),\n",
        "                            nn.Linear(4096, 4096),\n",
        "                            nn.ReLU(),\n",
        "                            nn.Dropout(p=0.5),\n",
        "                            nn.Linear(4096, 1000),\n",
        "                            nn.ReLU(),\n",
        "                            nn.Linear(1000, 12))\n",
        "  def forward(self, x):\n",
        "    x=self.conv1(x)\n",
        "    x=self.conv2(x)\n",
        "    x=self.conv3(x)\n",
        "    x=self.conv4(x)\n",
        "    x=self.conv5(x)\n",
        "    x=self.conn(x)\n",
        "    return x\n",
        "\n"
      ]
    },
    {
      "cell_type": "code",
      "execution_count": 10,
      "metadata": {
        "colab": {
          "base_uri": "https://localhost:8080/",
          "height": 36
        },
        "id": "ZVHqM7V-kWq0",
        "outputId": "bcdca8bf-92b9-411d-f4dc-f5000748238e"
      },
      "outputs": [
        {
          "output_type": "execute_result",
          "data": {
            "text/plain": [
              "'cuda'"
            ],
            "application/vnd.google.colaboratory.intrinsic+json": {
              "type": "string"
            }
          },
          "metadata": {},
          "execution_count": 10
        }
      ],
      "source": [
        "device"
      ]
    },
    {
      "cell_type": "code",
      "execution_count": 11,
      "metadata": {
        "id": "4hlJyE08PfWR"
      },
      "outputs": [],
      "source": [
        "from torch import optim\n",
        "model1=VGG19().to(device)\n",
        "losss=nn.CrossEntropyLoss()\n",
        "model_optim=optim.Adam(model1.parameters(), lr=1e-4) #Optimizer and loss functions can be changed"
      ]
    },
    {
      "cell_type": "code",
      "source": [
        "model1"
      ],
      "metadata": {
        "colab": {
          "base_uri": "https://localhost:8080/"
        },
        "id": "3mDXHJ5X8OWO",
        "outputId": "39c26a50-ab32-4781-c718-d520de090fcd"
      },
      "execution_count": 14,
      "outputs": [
        {
          "output_type": "execute_result",
          "data": {
            "text/plain": [
              "VGG19(\n",
              "  (conv1): Sequential(\n",
              "    (0): Conv2d(3, 64, kernel_size=(3, 3), stride=(1, 1), padding=same)\n",
              "    (1): ReLU()\n",
              "    (2): Conv2d(64, 64, kernel_size=(3, 3), stride=(1, 1), padding=same)\n",
              "    (3): ReLU()\n",
              "    (4): MaxPool2d(kernel_size=2, stride=2, padding=0, dilation=1, ceil_mode=False)\n",
              "  )\n",
              "  (conv2): Sequential(\n",
              "    (0): Conv2d(64, 128, kernel_size=(3, 3), stride=(1, 1), padding=same)\n",
              "    (1): ReLU()\n",
              "    (2): Conv2d(128, 128, kernel_size=(3, 3), stride=(1, 1), padding=same)\n",
              "    (3): ReLU()\n",
              "    (4): MaxPool2d(kernel_size=2, stride=2, padding=0, dilation=1, ceil_mode=False)\n",
              "  )\n",
              "  (conv3): Sequential(\n",
              "    (0): Conv2d(128, 256, kernel_size=(3, 3), stride=(1, 1), padding=same)\n",
              "    (1): ReLU()\n",
              "    (2): Conv2d(256, 256, kernel_size=(3, 3), stride=(1, 1), padding=same)\n",
              "    (3): ReLU()\n",
              "    (4): Conv2d(256, 256, kernel_size=(3, 3), stride=(1, 1), padding=same)\n",
              "    (5): ReLU()\n",
              "    (6): Conv2d(256, 256, kernel_size=(3, 3), stride=(1, 1), padding=same)\n",
              "    (7): ReLU()\n",
              "    (8): MaxPool2d(kernel_size=2, stride=2, padding=0, dilation=1, ceil_mode=False)\n",
              "  )\n",
              "  (conv4): Sequential(\n",
              "    (0): Conv2d(256, 512, kernel_size=(3, 3), stride=(1, 1), padding=same)\n",
              "    (1): ReLU()\n",
              "    (2): Conv2d(512, 512, kernel_size=(3, 3), stride=(1, 1), padding=same)\n",
              "    (3): ReLU()\n",
              "    (4): Conv2d(512, 512, kernel_size=(3, 3), stride=(1, 1), padding=same)\n",
              "    (5): ReLU()\n",
              "    (6): Conv2d(512, 512, kernel_size=(3, 3), stride=(1, 1), padding=same)\n",
              "    (7): ReLU()\n",
              "    (8): MaxPool2d(kernel_size=2, stride=2, padding=0, dilation=1, ceil_mode=False)\n",
              "  )\n",
              "  (conv5): Sequential(\n",
              "    (0): Conv2d(512, 512, kernel_size=(3, 3), stride=(1, 1), padding=same)\n",
              "    (1): ReLU()\n",
              "    (2): Conv2d(512, 512, kernel_size=(3, 3), stride=(1, 1), padding=same)\n",
              "    (3): ReLU()\n",
              "    (4): Conv2d(512, 512, kernel_size=(3, 3), stride=(1, 1), padding=same)\n",
              "    (5): ReLU()\n",
              "    (6): Conv2d(512, 512, kernel_size=(3, 3), stride=(1, 1), padding=same)\n",
              "    (7): ReLU()\n",
              "    (8): MaxPool2d(kernel_size=2, stride=2, padding=0, dilation=1, ceil_mode=False)\n",
              "  )\n",
              "  (conn): Sequential(\n",
              "    (0): Flatten(start_dim=1, end_dim=-1)\n",
              "    (1): Linear(in_features=25088, out_features=4096, bias=True)\n",
              "    (2): ReLU()\n",
              "    (3): Dropout(p=0.5, inplace=False)\n",
              "    (4): Linear(in_features=4096, out_features=4096, bias=True)\n",
              "    (5): ReLU()\n",
              "    (6): Dropout(p=0.5, inplace=False)\n",
              "    (7): Linear(in_features=4096, out_features=1000, bias=True)\n",
              "    (8): ReLU()\n",
              "    (9): Linear(in_features=1000, out_features=12, bias=True)\n",
              "  )\n",
              ")"
            ]
          },
          "metadata": {},
          "execution_count": 14
        }
      ]
    },
    {
      "cell_type": "code",
      "source": [
        "#Accuracy function\n",
        "def multiclass_accuracy(y_pred,y_true):\n",
        "  top_p,top_class = y_pred.topk(1,dim = 1)\n",
        "  equals = top_class == y_true.view(*top_class.shape)\n",
        "  return torch.mean(equals.type(torch.FloatTensor))"
      ],
      "metadata": {
        "id": "lTz8MBiq7x-C"
      },
      "execution_count": 15,
      "outputs": []
    },
    {
      "cell_type": "code",
      "execution_count": null,
      "metadata": {
        "id": "Vg86S42wP-Ok"
      },
      "outputs": [],
      "source": [
        "# train function\n",
        "from tqdm import tqdm\n",
        "def train(model, trainloader, optimizer, loss_func):\n",
        "  total_loss=0\n",
        "  total_accuracy=0\n",
        "  model.train()\n",
        "  for i, data in enumerate(tqdm(trainloader)):\n",
        "    image, label= data\n",
        "    image=image.to(device)\n",
        "    label=label.to(device)\n",
        "    optimizer.zero_grad()\n",
        "    pred=model(image)\n",
        "    loss=loss_func(pred, label)\n",
        "    total_loss+=loss.item()\n",
        "    loss.backward()\n",
        "    optimizer.step()\n",
        "    accuracy=multiclass_accuracy(pred, label)\n",
        "    total_accuracy+=accuracy\n",
        "  return total_loss/len(trainloader), total_accuracy/len(trainloader)\n"
      ]
    },
    {
      "cell_type": "code",
      "execution_count": null,
      "metadata": {
        "id": "t6TvETMEQJr4"
      },
      "outputs": [],
      "source": [
        "#Eval function\n",
        "def evall(model, loader, loss_func):\n",
        "  total_loss=0\n",
        "  total_accuracy=0\n",
        "  model.eval()\n",
        "  for i, data in enumerate(tqdm(loader)):\n",
        "    image, label= data\n",
        "    image=image.to(device)\n",
        "    label=label.to(device)\n",
        "    pred=model(image)\n",
        "    loss=loss_func(pred, label)\n",
        "    total_loss+=loss.item()\n",
        "    accuracy=multiclass_accuracy(pred, label)\n",
        "    total_accuracy+=accuracy\n",
        "  return total_loss/len(loader), total_accuracy/len(loader)"
      ]
    },
    {
      "cell_type": "code",
      "execution_count": null,
      "metadata": {
        "colab": {
          "base_uri": "https://localhost:8080/"
        },
        "id": "CnaASFdgQDLp",
        "outputId": "8d0f93fe-8822-4f72-c185-c56716d0311a"
      },
      "outputs": [
        {
          "output_type": "stream",
          "name": "stderr",
          "text": [
            "100%|██████████| 121/121 [00:41<00:00,  2.93it/s]\n"
          ]
        },
        {
          "output_type": "stream",
          "name": "stdout",
          "text": [
            "Current epoch:0,  train loss:2.034946258403053,  train accuracy:0.26308539509773254\n"
          ]
        },
        {
          "output_type": "stream",
          "name": "stderr",
          "text": [
            "100%|██████████| 4/4 [00:00<00:00,  8.19it/s]\n"
          ]
        },
        {
          "output_type": "stream",
          "name": "stdout",
          "text": [
            "Current epoch:0,  valid loss:1.9656965732574463,  valid accuracy:0.2135416716337204\n"
          ]
        },
        {
          "output_type": "stream",
          "name": "stderr",
          "text": [
            "100%|██████████| 121/121 [00:41<00:00,  2.93it/s]\n"
          ]
        },
        {
          "output_type": "stream",
          "name": "stdout",
          "text": [
            "Current epoch:1,  train loss:1.945036333454542,  train accuracy:0.2875344455242157\n"
          ]
        },
        {
          "output_type": "stream",
          "name": "stderr",
          "text": [
            "100%|██████████| 4/4 [00:00<00:00,  7.78it/s]\n"
          ]
        },
        {
          "output_type": "stream",
          "name": "stdout",
          "text": [
            "Current epoch:1,  valid loss:1.8825314939022064,  valid accuracy:0.2552083432674408\n"
          ]
        },
        {
          "output_type": "stream",
          "name": "stderr",
          "text": [
            "100%|██████████| 121/121 [00:41<00:00,  2.91it/s]\n"
          ]
        },
        {
          "output_type": "stream",
          "name": "stdout",
          "text": [
            "Current epoch:2,  train loss:1.8111342034064049,  train accuracy:0.332988977432251\n"
          ]
        },
        {
          "output_type": "stream",
          "name": "stderr",
          "text": [
            "100%|██████████| 4/4 [00:00<00:00,  7.96it/s]\n"
          ]
        },
        {
          "output_type": "stream",
          "name": "stdout",
          "text": [
            "Current epoch:2,  valid loss:1.6103256940841675,  valid accuracy:0.3854166567325592\n"
          ]
        },
        {
          "output_type": "stream",
          "name": "stderr",
          "text": [
            "100%|██████████| 121/121 [00:41<00:00,  2.90it/s]\n"
          ]
        },
        {
          "output_type": "stream",
          "name": "stdout",
          "text": [
            "Current epoch:3,  train loss:1.6664390278256629,  train accuracy:0.39910468459129333\n"
          ]
        },
        {
          "output_type": "stream",
          "name": "stderr",
          "text": [
            "100%|██████████| 4/4 [00:00<00:00,  8.16it/s]\n"
          ]
        },
        {
          "output_type": "stream",
          "name": "stdout",
          "text": [
            "Current epoch:3,  valid loss:1.506591096520424,  valid accuracy:0.4791666567325592\n"
          ]
        },
        {
          "output_type": "stream",
          "name": "stderr",
          "text": [
            "100%|██████████| 121/121 [00:41<00:00,  2.93it/s]\n"
          ]
        },
        {
          "output_type": "stream",
          "name": "stdout",
          "text": [
            "Current epoch:4,  train loss:1.440831093748739,  train accuracy:0.46074381470680237\n"
          ]
        },
        {
          "output_type": "stream",
          "name": "stderr",
          "text": [
            "100%|██████████| 4/4 [00:00<00:00,  8.17it/s]\n"
          ]
        },
        {
          "output_type": "stream",
          "name": "stdout",
          "text": [
            "Current epoch:4,  valid loss:1.3073748797178268,  valid accuracy:0.5\n"
          ]
        },
        {
          "output_type": "stream",
          "name": "stderr",
          "text": [
            "100%|██████████| 121/121 [00:41<00:00,  2.90it/s]\n"
          ]
        },
        {
          "output_type": "stream",
          "name": "stdout",
          "text": [
            "Current epoch:5,  train loss:1.28060631564826,  train accuracy:0.522382915019989\n"
          ]
        },
        {
          "output_type": "stream",
          "name": "stderr",
          "text": [
            "100%|██████████| 4/4 [00:00<00:00,  8.06it/s]\n"
          ]
        },
        {
          "output_type": "stream",
          "name": "stdout",
          "text": [
            "Current epoch:5,  valid loss:1.298604667186737,  valid accuracy:0.5572916865348816\n"
          ]
        },
        {
          "output_type": "stream",
          "name": "stderr",
          "text": [
            "100%|██████████| 121/121 [00:41<00:00,  2.92it/s]\n"
          ]
        },
        {
          "output_type": "stream",
          "name": "stdout",
          "text": [
            "Current epoch:6,  train loss:1.138402062506715,  train accuracy:0.571969747543335\n"
          ]
        },
        {
          "output_type": "stream",
          "name": "stderr",
          "text": [
            "100%|██████████| 4/4 [00:00<00:00,  8.13it/s]\n"
          ]
        },
        {
          "output_type": "stream",
          "name": "stdout",
          "text": [
            "Current epoch:6,  valid loss:1.1756762713193893,  valid accuracy:0.6041666865348816\n"
          ]
        },
        {
          "output_type": "stream",
          "name": "stderr",
          "text": [
            "100%|██████████| 121/121 [00:41<00:00,  2.92it/s]\n"
          ]
        },
        {
          "output_type": "stream",
          "name": "stdout",
          "text": [
            "Current epoch:7,  train loss:1.0068981100705043,  train accuracy:0.6439393758773804\n"
          ]
        },
        {
          "output_type": "stream",
          "name": "stderr",
          "text": [
            "100%|██████████| 4/4 [00:00<00:00,  8.29it/s]\n"
          ]
        },
        {
          "output_type": "stream",
          "name": "stdout",
          "text": [
            "Current epoch:7,  valid loss:1.0623609870672226,  valid accuracy:0.65625\n"
          ]
        },
        {
          "output_type": "stream",
          "name": "stderr",
          "text": [
            "100%|██████████| 121/121 [00:41<00:00,  2.92it/s]\n"
          ]
        },
        {
          "output_type": "stream",
          "name": "stdout",
          "text": [
            "Current epoch:8,  train loss:0.8854049454050615,  train accuracy:0.6782024502754211\n"
          ]
        },
        {
          "output_type": "stream",
          "name": "stderr",
          "text": [
            "100%|██████████| 4/4 [00:00<00:00,  7.74it/s]\n"
          ]
        },
        {
          "output_type": "stream",
          "name": "stdout",
          "text": [
            "Current epoch:8,  valid loss:1.0821405053138733,  valid accuracy:0.7291666865348816\n"
          ]
        },
        {
          "output_type": "stream",
          "name": "stderr",
          "text": [
            "100%|██████████| 121/121 [00:41<00:00,  2.95it/s]\n"
          ]
        },
        {
          "output_type": "stream",
          "name": "stdout",
          "text": [
            "Current epoch:9,  train loss:0.8491155278584188,  train accuracy:0.6942148804664612\n"
          ]
        },
        {
          "output_type": "stream",
          "name": "stderr",
          "text": [
            "100%|██████████| 4/4 [00:00<00:00,  7.79it/s]\n"
          ]
        },
        {
          "output_type": "stream",
          "name": "stdout",
          "text": [
            "Current epoch:9,  valid loss:1.022240698337555,  valid accuracy:0.75\n"
          ]
        }
      ],
      "source": [
        "#Training the model\n",
        "best_loss=np.Inf\n",
        "train_losss=[]\n",
        "valid_losss=[]\n",
        "for i in range(10):\n",
        "  train_loss, train_accuracy=train(model1, train_loader, model_optim, losss)\n",
        "  print(f\"Current epoch:{i},  train loss:{train_loss},  train accuracy:{train_accuracy}\")\n",
        "  train_losss.append(train_loss)\n",
        "  valid_loss, valid_accuracy=evall(model1, valid_loader, losss)\n",
        "  print(f\"Current epoch:{i},  valid loss:{valid_loss},  valid accuracy:{valid_accuracy}\")\n",
        "  valid_losss.append(valid_loss)\n",
        "  if valid_loss < best_loss:\n",
        "    torch.save(model1.state_dict(), \"/content/drive/MyDrive/classification_models/best_model.pt\")\n",
        "    best_loss=valid_loss\n",
        "\n",
        "\n"
      ]
    },
    {
      "cell_type": "code",
      "execution_count": null,
      "metadata": {
        "id": "r0ubLBhkyEob"
      },
      "outputs": [],
      "source": [
        "def loss_curve(epochs, train_losss, valid_losss):\n",
        "  epochs = list(range(1, epochs + 1))\n",
        "  plt.figure(figsize=(10, 5))\n",
        "  plt.xlabel(\"Epoch\")\n",
        "  plt.ylabel(\"Loss\")\n",
        "\n",
        "  plt.plot(epochs[1:], train_losss[1:], label=\"Training Loss\")\n",
        "  plt.plot(epochs[1:], valid_losss[1:], label=\"Validation Loss\")\n",
        "  plt.legend()\n",
        "  merged_losses = train_losss[1:] + valid_losss[1:]\n",
        "  highest_loss = max(merged_losses)\n",
        "  lowest_loss = min(merged_losses)\n",
        "  delta = highest_loss - lowest_loss\n",
        "  print(delta)\n",
        "\n",
        "  top_of_y_axis = highest_loss + (delta * 0.05)\n",
        "  bottom_of_y_axis = lowest_loss - (delta * 0.05)\n",
        "  plt.title('loss curve')\n",
        "  plt.ylim([bottom_of_y_axis, top_of_y_axis])\n",
        "  plt.show()"
      ]
    },
    {
      "cell_type": "code",
      "execution_count": null,
      "metadata": {
        "id": "iKcz6JoJy7Kf",
        "colab": {
          "base_uri": "https://localhost:8080/",
          "height": 504
        },
        "outputId": "d95e6694-ce00-4ae3-8b8d-70ba9538e677"
      },
      "outputs": [
        {
          "output_type": "stream",
          "name": "stdout",
          "text": [
            "1.0959208055961231\n"
          ]
        },
        {
          "output_type": "display_data",
          "data": {
            "text/plain": [
              "<Figure size 1000x500 with 1 Axes>"
            ],
            "image/png": "[encoded data removed]"
          },
          "metadata": {}
        }
      ],
      "source": [
        "loss_curve(10, train_losss, valid_losss)"
      ]
    },
    {
      "cell_type": "code",
      "source": [
        "test_loss, test_accuracy=evall(model1, test_loader, losss)\n",
        "print(f\"Test loss:{test_loss},  Test accuracy:{test_accuracy}\")"
      ],
      "metadata": {
        "colab": {
          "base_uri": "https://localhost:8080/"
        },
        "id": "cHIV3LH38uu6",
        "outputId": "60ec6e15-08c7-4f41-b31c-ccdeeb144c67"
      },
      "execution_count": null,
      "outputs": [
        {
          "output_type": "stream",
          "name": "stderr",
          "text": [
            "100%|██████████| 60/60 [00:01<00:00, 53.34it/s]"
          ]
        },
        {
          "output_type": "stream",
          "name": "stdout",
          "text": [
            "Test loss:0.5986063380936836,  Test accuracy:0.7666666507720947\n"
          ]
        },
        {
          "output_type": "stream",
          "name": "stderr",
          "text": [
            "\n"
          ]
        }
      ]
    }
  ],
  "metadata": {
    "colab": {
      "provenance": [],
      "gpuType": "T4"
    },
    "kernelspec": {
      "display_name": "Python 3",
      "name": "python3"
    },
    "language_info": {
      "name": "python"
    },
    "accelerator": "GPU"
  },
  "nbformat": 4,
  "nbformat_minor": 0
}