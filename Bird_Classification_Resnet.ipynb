{
  "nbformat": 4,
  "nbformat_minor": 0,
  "metadata": {
    "colab": {
      "provenance": [],
      "gpuType": "T4"
    },
    "kernelspec": {
      "name": "python3",
      "display_name": "Python 3"
    },
    "language_info": {
      "name": "python"
    },
    "accelerator": "GPU"
  },
  "cells": [
    {
      "cell_type": "code",
      "execution_count": 1,
      "metadata": {
        "colab": {
          "base_uri": "https://localhost:8080/"
        },
        "id": "uhHAqwA79zPF",
        "outputId": "6d05d56d-37ea-428a-d513-f016be34be01"
      },
      "outputs": [
        {
          "output_type": "stream",
          "name": "stdout",
          "text": [
            "Mounted at /content/drive\n"
          ]
        }
      ],
      "source": [
        "from google.colab import drive\n",
        "drive.mount(\"/content/drive\")"
      ]
    },
    {
      "cell_type": "code",
      "source": [
        "import torch\n",
        "from torchvision import transforms\n",
        "from torchvision import datasets\n",
        "import pandas as pd\n",
        "import cv2\n",
        "import os\n",
        "from PIL import Image\n",
        "import matplotlib.pyplot as plt\n",
        "from sklearn.model_selection import train_test_split\n",
        "import random\n",
        "from torch.utils.data import DataLoader\n",
        "import torch.nn as nn\n",
        "from torchvision.datasets import ImageFolder\n",
        "import numpy as np"
      ],
      "metadata": {
        "id": "VAPyoOgaCdlO"
      },
      "execution_count": 2,
      "outputs": []
    },
    {
      "cell_type": "code",
      "source": [
        "device = 'cuda' if torch.cuda.is_available() else 'cpu'\n",
        "device"
      ],
      "metadata": {
        "colab": {
          "base_uri": "https://localhost:8080/",
          "height": 36
        },
        "id": "zHl_mQ2TCfFS",
        "outputId": "e8e93fe3-7620-46dd-d8c0-65af9485b241"
      },
      "execution_count": 3,
      "outputs": [
        {
          "output_type": "execute_result",
          "data": {
            "text/plain": [
              "'cuda'"
            ],
            "application/vnd.google.colaboratory.intrinsic+json": {
              "type": "string"
            }
          },
          "metadata": {},
          "execution_count": 3
        }
      ]
    },
    {
      "cell_type": "code",
      "source": [
        "#Transforms\n",
        "train_transform=transforms.Compose([\n",
        "    transforms.Resize(size=(224,224)),\n",
        "    transforms.RandomHorizontalFlip(p=0.5),\n",
        "    transforms.RandomRotation(degrees=(-10, +10)),\n",
        "    # transforms.TrivialAugmentWide(num_magnitude_bins=5),\n",
        "    transforms.ToTensor()\n",
        "])\n",
        "\n",
        "valid_transform=transforms.Compose([\n",
        "    transforms.Resize(size=(224,224)),\n",
        "    transforms.ToTensor()\n",
        "])\n",
        "\n",
        "\n",
        "test_transform=transforms.Compose([\n",
        "    transforms.Resize(size=(224,224)),\n",
        "    transforms.ToTensor()\n",
        "])"
      ],
      "metadata": {
        "id": "HN81nOrYCgmK"
      },
      "execution_count": 4,
      "outputs": []
    },
    {
      "cell_type": "code",
      "source": [
        "# Directories for train, valid, test datasets\n",
        "train_dir=\"/content/drive/MyDrive/bird_dataset/train\"\n",
        "valid_dir=\"/content/drive/MyDrive/bird_dataset/valid\"\n",
        "test_dir=\"/content/drive/MyDrive/bird_dataset/test\"\n",
        "data_train=ImageFolder(train_dir, train_transform)\n",
        "data_valid=ImageFolder(valid_dir, valid_transform)\n",
        "data_test=ImageFolder(test_dir, test_transform)"
      ],
      "metadata": {
        "id": "ki0BsJ4UCiez"
      },
      "execution_count": 5,
      "outputs": []
    },
    {
      "cell_type": "code",
      "source": [
        "data_train.class_to_idx"
      ],
      "metadata": {
        "colab": {
          "base_uri": "https://localhost:8080/"
        },
        "id": "OEYq7UP0CkuP",
        "outputId": "61124cc5-4cb8-40ee-9461-0b5f1b3877da"
      },
      "execution_count": 6,
      "outputs": [
        {
          "output_type": "execute_result",
          "data": {
            "text/plain": [
              "{'ALBATROSS': 0,\n",
              " 'AMERICAN AVOCET': 1,\n",
              " 'BLACK SWAN': 2,\n",
              " 'CACTUS WREN': 3,\n",
              " 'CHINESE BAMBOO PARTRIDGE': 4,\n",
              " 'COMMON STARLING': 5,\n",
              " 'CUBAN TROGON': 6,\n",
              " 'GREAT ARGUS': 7,\n",
              " 'JAVA SPARROW': 8,\n",
              " 'PUFFIN': 9,\n",
              " 'WILD TURKEY': 10,\n",
              " 'ZEBRA DOVE': 11}"
            ]
          },
          "metadata": {},
          "execution_count": 6
        }
      ]
    },
    {
      "cell_type": "code",
      "source": [
        "train_loader=DataLoader(data_train, batch_size=16, shuffle=True)\n",
        "valid_loader=DataLoader(data_valid, batch_size=16)\n",
        "test_loader=DataLoader(data_test)"
      ],
      "metadata": {
        "id": "GddBU3tiCmm2"
      },
      "execution_count": 7,
      "outputs": []
    },
    {
      "cell_type": "code",
      "source": [
        "len(train_loader)"
      ],
      "metadata": {
        "colab": {
          "base_uri": "https://localhost:8080/"
        },
        "id": "6NdjPAXzCoSU",
        "outputId": "ac013a15-6691-424b-b766-90f13fe0a74b"
      },
      "execution_count": 8,
      "outputs": [
        {
          "output_type": "execute_result",
          "data": {
            "text/plain": [
              "121"
            ]
          },
          "metadata": {},
          "execution_count": 8
        }
      ]
    },
    {
      "cell_type": "code",
      "source": [
        "class Resnet50(nn.Module):\n",
        "  def __init__(self):\n",
        "    super().__init__()\n",
        "    self.conv1=nn.Conv2d(in_channels=3, out_channels=64, kernel_size=7, stride=2, padding=0)\n",
        "    self.pool=nn.MaxPool2d(kernel_size=3, stride=2)\n",
        "    self.bottleneck11=nn.Sequential(nn.Conv2d(in_channels=64, out_channels=64, kernel_size=1, stride=1, padding=\"same\"),\n",
        "                                    nn.BatchNorm2d(64),\n",
        "                                    nn.Conv2d(in_channels=64, out_channels=64, kernel_size=3, stride=1, padding=\"same\"),\n",
        "                                    nn.BatchNorm2d(64),\n",
        "                                    nn.Conv2d(in_channels=64, out_channels=256, kernel_size=1, stride=1, padding=\"same\"),\n",
        "                                    nn.BatchNorm2d(256),\n",
        "                                    nn.ReLU()\n",
        "                                    )\n",
        "    self.down1=nn.Sequential(nn.Conv2d(in_channels=64, out_channels=256, kernel_size=1, stride=1),\n",
        "                             nn.BatchNorm2d(256))\n",
        "    self.bottleneck12=nn.Sequential(nn.Conv2d(in_channels=256, out_channels=64, kernel_size=1, stride=1, padding=\"same\"),\n",
        "                                    nn.BatchNorm2d(64),\n",
        "                                    nn.Conv2d(in_channels=64, out_channels=64, kernel_size=3, stride=1, padding=\"same\"),\n",
        "                                    nn.BatchNorm2d(64),\n",
        "                                    nn.Conv2d(in_channels=64, out_channels=256, kernel_size=1, stride=1, padding=\"same\"),\n",
        "                                    nn.BatchNorm2d(256),\n",
        "                                    nn.ReLU()\n",
        "                                    )\n",
        "    self.bottleneck13=nn.Sequential(nn.Conv2d(in_channels=256, out_channels=64, kernel_size=1, stride=1, padding=\"same\"),\n",
        "                                    nn.BatchNorm2d(64),\n",
        "                                    nn.Conv2d(in_channels=64, out_channels=64, kernel_size=3, stride=1, padding=\"same\"),\n",
        "                                    nn.BatchNorm2d(64),\n",
        "                                    nn.Conv2d(in_channels=64, out_channels=256, kernel_size=1, stride=1, padding=\"same\"),\n",
        "                                    nn.BatchNorm2d(256),\n",
        "                                    nn.ReLU()\n",
        "                                    )\n",
        "    self.bottleneck21=nn.Sequential(nn.Conv2d(in_channels=256, out_channels=128, kernel_size=1, stride=1, padding=\"same\"),\n",
        "                                    nn.BatchNorm2d(128),\n",
        "                                    nn.Conv2d(in_channels=128, out_channels=128, kernel_size=3, stride=2, padding=1),\n",
        "                                    nn.BatchNorm2d(128),\n",
        "                                    nn.Conv2d(in_channels=128, out_channels=512, kernel_size=1, stride=1, padding=\"same\"),\n",
        "                                    nn.BatchNorm2d(512),\n",
        "                                    nn.ReLU()\n",
        "                                    )\n",
        "    self.down2=nn.Sequential(nn.Conv2d(in_channels=256, out_channels=512, kernel_size=1, stride=2),\n",
        "                             nn.BatchNorm2d(512))\n",
        "    self.bottleneck22=nn.Sequential(nn.Conv2d(in_channels=512, out_channels=128, kernel_size=1, stride=1, padding=\"same\"),\n",
        "                                    nn.BatchNorm2d(128),\n",
        "                                    nn.Conv2d(in_channels=128, out_channels=128, kernel_size=3, stride=1, padding=\"same\"),\n",
        "                                    nn.BatchNorm2d(128),\n",
        "                                    nn.Conv2d(in_channels=128, out_channels=512, kernel_size=1, stride=1, padding=\"same\"),\n",
        "                                    nn.BatchNorm2d(512),\n",
        "                                    nn.ReLU()\n",
        "                                    )\n",
        "    self.bottleneck23=nn.Sequential(nn.Conv2d(in_channels=512, out_channels=128, kernel_size=1, stride=1, padding=\"same\"),\n",
        "                                    nn.BatchNorm2d(128),\n",
        "                                    nn.Conv2d(in_channels=128, out_channels=128, kernel_size=3, stride=1, padding=\"same\"),\n",
        "                                    nn.BatchNorm2d(128),\n",
        "                                    nn.Conv2d(in_channels=128, out_channels=512, kernel_size=1, stride=1, padding=\"same\"),\n",
        "                                    nn.BatchNorm2d(512),\n",
        "                                    nn.ReLU()\n",
        "                                    )\n",
        "    self.bottleneck24=nn.Sequential(nn.Conv2d(in_channels=512, out_channels=128, kernel_size=1, stride=1, padding=\"same\"),\n",
        "                                    nn.BatchNorm2d(128),\n",
        "                                    nn.Conv2d(in_channels=128, out_channels=128, kernel_size=3, stride=1, padding=\"same\"),\n",
        "                                    nn.BatchNorm2d(128),\n",
        "                                    nn.Conv2d(in_channels=128, out_channels=512, kernel_size=1, stride=1, padding=\"same\"),\n",
        "                                    nn.BatchNorm2d(512),\n",
        "                                    nn.ReLU()\n",
        "                                    )\n",
        "    self.bottleneck31=nn.Sequential(nn.Conv2d(in_channels=512, out_channels=256, kernel_size=1, stride=1, padding=\"same\"),\n",
        "                                    nn.BatchNorm2d(256),\n",
        "                                    nn.Conv2d(in_channels=256, out_channels=256, kernel_size=3, stride=2, padding=1),\n",
        "                                    nn.BatchNorm2d(256),\n",
        "                                    nn.Conv2d(in_channels=256, out_channels=1024, kernel_size=1, stride=1, padding=\"same\"),\n",
        "                                    nn.BatchNorm2d(1024),\n",
        "                                    nn.ReLU()\n",
        "                                    )\n",
        "    self.down3=nn.Sequential(nn.Conv2d(in_channels=512, out_channels=1024, kernel_size=1, stride=2),\n",
        "                             nn.BatchNorm2d(1024))\n",
        "    self.bottleneck32=nn.Sequential(nn.Conv2d(in_channels=1024, out_channels=256, kernel_size=1, stride=1, padding=\"same\"),\n",
        "                                    nn.BatchNorm2d(256),\n",
        "                                    nn.Conv2d(in_channels=256, out_channels=256, kernel_size=3, stride=1, padding=\"same\"),\n",
        "                                    nn.BatchNorm2d(256),\n",
        "                                    nn.Conv2d(in_channels=256, out_channels=1024, kernel_size=1, stride=1, padding=\"same\"),\n",
        "                                    nn.BatchNorm2d(1024),\n",
        "                                    nn.ReLU()\n",
        "                                    )\n",
        "    self.bottleneck33=nn.Sequential(nn.Conv2d(in_channels=1024, out_channels=256, kernel_size=1, stride=1, padding=\"same\"),\n",
        "                                    nn.BatchNorm2d(256),\n",
        "                                    nn.Conv2d(in_channels=256, out_channels=256, kernel_size=3, stride=1, padding=\"same\"),\n",
        "                                    nn.BatchNorm2d(256),\n",
        "                                    nn.Conv2d(in_channels=256, out_channels=1024, kernel_size=1, stride=1, padding=\"same\"),\n",
        "                                    nn.BatchNorm2d(1024),\n",
        "                                    nn.ReLU()\n",
        "                                    )\n",
        "    self.bottleneck34=nn.Sequential(nn.Conv2d(in_channels=1024, out_channels=256, kernel_size=1, stride=1, padding=\"same\"),\n",
        "                                    nn.BatchNorm2d(256),\n",
        "                                    nn.Conv2d(in_channels=256, out_channels=256, kernel_size=3, stride=1, padding=\"same\"),\n",
        "                                    nn.BatchNorm2d(256),\n",
        "                                    nn.Conv2d(in_channels=256, out_channels=1024, kernel_size=1, stride=1, padding=\"same\"),\n",
        "                                    nn.BatchNorm2d(1024),\n",
        "                                    nn.ReLU()\n",
        "                                    )\n",
        "    self.bottleneck35=nn.Sequential(nn.Conv2d(in_channels=1024, out_channels=256, kernel_size=1, stride=1, padding=\"same\"),\n",
        "                                    nn.BatchNorm2d(256),\n",
        "                                    nn.Conv2d(in_channels=256, out_channels=256, kernel_size=3, stride=1, padding=\"same\"),\n",
        "                                    nn.BatchNorm2d(256),\n",
        "                                    nn.Conv2d(in_channels=256, out_channels=1024, kernel_size=1, stride=1, padding=\"same\"),\n",
        "                                    nn.BatchNorm2d(1024),\n",
        "                                    nn.ReLU()\n",
        "                                    )\n",
        "    self.bottleneck36=nn.Sequential(nn.Conv2d(in_channels=1024, out_channels=256, kernel_size=1, stride=1, padding=\"same\"),\n",
        "                                    nn.BatchNorm2d(256),\n",
        "                                    nn.Conv2d(in_channels=256, out_channels=256, kernel_size=3, stride=1, padding=\"same\"),\n",
        "                                    nn.BatchNorm2d(256),\n",
        "                                    nn.Conv2d(in_channels=256, out_channels=1024, kernel_size=1, stride=1, padding=\"same\"),\n",
        "                                    nn.BatchNorm2d(1024),\n",
        "                                    nn.ReLU()\n",
        "                                    )\n",
        "    self.bottleneck41=nn.Sequential(nn.Conv2d(in_channels=1024, out_channels=512, kernel_size=1, stride=1, padding=\"same\"),\n",
        "                                    nn.BatchNorm2d(512),\n",
        "                                    nn.Conv2d(in_channels=512, out_channels=512, kernel_size=3, stride=2, padding=1),\n",
        "                                    nn.BatchNorm2d(512),\n",
        "                                    nn.Conv2d(in_channels=512, out_channels=2048, kernel_size=1, stride=1, padding=\"same\"),\n",
        "                                    nn.BatchNorm2d(2048),\n",
        "                                    nn.ReLU()\n",
        "                                    )\n",
        "    self.down4=nn.Sequential(nn.Conv2d(in_channels=1024, out_channels=2048, kernel_size=1, stride=2),\n",
        "                             nn.BatchNorm2d(2048))\n",
        "    self.bottleneck42=nn.Sequential(nn.Conv2d(in_channels=2048, out_channels=512, kernel_size=1, stride=1, padding=\"same\"),\n",
        "                                    nn.BatchNorm2d(512),\n",
        "                                    nn.Conv2d(in_channels=512, out_channels=512, kernel_size=3, stride=1, padding=\"same\"),\n",
        "                                    nn.BatchNorm2d(512),\n",
        "                                    nn.Conv2d(in_channels=512, out_channels=2048, kernel_size=1, stride=1, padding=\"same\"),\n",
        "                                    nn.BatchNorm2d(2048),\n",
        "                                    nn.ReLU()\n",
        "                                    )\n",
        "    self.bottleneck43=nn.Sequential(nn.Conv2d(in_channels=2048, out_channels=512, kernel_size=1, stride=1, padding=\"same\"),\n",
        "                                    nn.BatchNorm2d(512),\n",
        "                                    nn.Conv2d(in_channels=512, out_channels=512, kernel_size=3, stride=1, padding=\"same\"),\n",
        "                                    nn.BatchNorm2d(512),\n",
        "                                    nn.Conv2d(in_channels=512, out_channels=2048, kernel_size=1, stride=1, padding=\"same\"),\n",
        "                                    nn.BatchNorm2d(2048),\n",
        "                                    nn.ReLU()\n",
        "                                    )\n",
        "    self.last=nn.Sequential(nn.AdaptiveAvgPool2d(output_size=(1, 1)),\n",
        "                            nn.Flatten(),\n",
        "                            nn.Linear(2048, 12))\n",
        "\n",
        "  def forward(self, x):\n",
        "    x=self.pool(self.conv1(x))\n",
        "    x=self.bottleneck11(x)+self.down1(x)\n",
        "    x=x+self.bottleneck12(x)\n",
        "    x=x+self.bottleneck13(x)\n",
        "    x=self.bottleneck21(x)+self.down2(x)\n",
        "    x=x+self.bottleneck22(x)\n",
        "    x=x+self.bottleneck23(x)\n",
        "    x=x+self.bottleneck24(x)\n",
        "    x=self.bottleneck31(x)+self.down3(x)\n",
        "    x=x+self.bottleneck32(x)\n",
        "    x=x+self.bottleneck33(x)\n",
        "    x=x+self.bottleneck34(x)\n",
        "    x=x+self.bottleneck35(x)\n",
        "    x=x+self.bottleneck36(x)\n",
        "    x=self.bottleneck41(x)+self.down4(x)\n",
        "    x=x+self.bottleneck42(x)\n",
        "    x=x+self.bottleneck43(x)\n",
        "\n",
        "    return self.last(x)\n",
        "\n",
        "\n",
        "\n",
        "\n",
        "\n",
        "\n"
      ],
      "metadata": {
        "id": "KKbuI941Cp-9"
      },
      "execution_count": 9,
      "outputs": []
    },
    {
      "cell_type": "code",
      "source": [
        "from torch import optim\n",
        "model1=Resnet50().to(device)\n",
        "losss=nn.CrossEntropyLoss()\n",
        "model_optim=optim.Adam(model1.parameters(), lr=1e-4) #Optimizer and loss functions can be changed"
      ],
      "metadata": {
        "id": "b1YFvylxCr7R"
      },
      "execution_count": 10,
      "outputs": []
    },
    {
      "cell_type": "code",
      "source": [
        "model1"
      ],
      "metadata": {
        "colab": {
          "base_uri": "https://localhost:8080/"
        },
        "id": "fb9dpu8V9uh5",
        "outputId": "51b38eb7-9176-4392-e9be-2db42186a224"
      },
      "execution_count": 11,
      "outputs": [
        {
          "output_type": "execute_result",
          "data": {
            "text/plain": [
              "Resnet50(\n",
              "  (conv1): Conv2d(3, 64, kernel_size=(7, 7), stride=(2, 2))\n",
              "  (pool): MaxPool2d(kernel_size=3, stride=2, padding=0, dilation=1, ceil_mode=False)\n",
              "  (bottleneck11): Sequential(\n",
              "    (0): Conv2d(64, 64, kernel_size=(1, 1), stride=(1, 1), padding=same)\n",
              "    (1): BatchNorm2d(64, eps=1e-05, momentum=0.1, affine=True, track_running_stats=True)\n",
              "    (2): Conv2d(64, 64, kernel_size=(3, 3), stride=(1, 1), padding=same)\n",
              "    (3): BatchNorm2d(64, eps=1e-05, momentum=0.1, affine=True, track_running_stats=True)\n",
              "    (4): Conv2d(64, 256, kernel_size=(1, 1), stride=(1, 1), padding=same)\n",
              "    (5): BatchNorm2d(256, eps=1e-05, momentum=0.1, affine=True, track_running_stats=True)\n",
              "    (6): ReLU()\n",
              "  )\n",
              "  (down1): Sequential(\n",
              "    (0): Conv2d(64, 256, kernel_size=(1, 1), stride=(1, 1))\n",
              "    (1): BatchNorm2d(256, eps=1e-05, momentum=0.1, affine=True, track_running_stats=True)\n",
              "  )\n",
              "  (bottleneck12): Sequential(\n",
              "    (0): Conv2d(256, 64, kernel_size=(1, 1), stride=(1, 1), padding=same)\n",
              "    (1): BatchNorm2d(64, eps=1e-05, momentum=0.1, affine=True, track_running_stats=True)\n",
              "    (2): Conv2d(64, 64, kernel_size=(3, 3), stride=(1, 1), padding=same)\n",
              "    (3): BatchNorm2d(64, eps=1e-05, momentum=0.1, affine=True, track_running_stats=True)\n",
              "    (4): Conv2d(64, 256, kernel_size=(1, 1), stride=(1, 1), padding=same)\n",
              "    (5): BatchNorm2d(256, eps=1e-05, momentum=0.1, affine=True, track_running_stats=True)\n",
              "    (6): ReLU()\n",
              "  )\n",
              "  (bottleneck13): Sequential(\n",
              "    (0): Conv2d(256, 64, kernel_size=(1, 1), stride=(1, 1), padding=same)\n",
              "    (1): BatchNorm2d(64, eps=1e-05, momentum=0.1, affine=True, track_running_stats=True)\n",
              "    (2): Conv2d(64, 64, kernel_size=(3, 3), stride=(1, 1), padding=same)\n",
              "    (3): BatchNorm2d(64, eps=1e-05, momentum=0.1, affine=True, track_running_stats=True)\n",
              "    (4): Conv2d(64, 256, kernel_size=(1, 1), stride=(1, 1), padding=same)\n",
              "    (5): BatchNorm2d(256, eps=1e-05, momentum=0.1, affine=True, track_running_stats=True)\n",
              "    (6): ReLU()\n",
              "  )\n",
              "  (bottleneck21): Sequential(\n",
              "    (0): Conv2d(256, 128, kernel_size=(1, 1), stride=(1, 1), padding=same)\n",
              "    (1): BatchNorm2d(128, eps=1e-05, momentum=0.1, affine=True, track_running_stats=True)\n",
              "    (2): Conv2d(128, 128, kernel_size=(3, 3), stride=(2, 2), padding=(1, 1))\n",
              "    (3): BatchNorm2d(128, eps=1e-05, momentum=0.1, affine=True, track_running_stats=True)\n",
              "    (4): Conv2d(128, 512, kernel_size=(1, 1), stride=(1, 1), padding=same)\n",
              "    (5): BatchNorm2d(512, eps=1e-05, momentum=0.1, affine=True, track_running_stats=True)\n",
              "    (6): ReLU()\n",
              "  )\n",
              "  (down2): Sequential(\n",
              "    (0): Conv2d(256, 512, kernel_size=(1, 1), stride=(2, 2))\n",
              "    (1): BatchNorm2d(512, eps=1e-05, momentum=0.1, affine=True, track_running_stats=True)\n",
              "  )\n",
              "  (bottleneck22): Sequential(\n",
              "    (0): Conv2d(512, 128, kernel_size=(1, 1), stride=(1, 1), padding=same)\n",
              "    (1): BatchNorm2d(128, eps=1e-05, momentum=0.1, affine=True, track_running_stats=True)\n",
              "    (2): Conv2d(128, 128, kernel_size=(3, 3), stride=(1, 1), padding=same)\n",
              "    (3): BatchNorm2d(128, eps=1e-05, momentum=0.1, affine=True, track_running_stats=True)\n",
              "    (4): Conv2d(128, 512, kernel_size=(1, 1), stride=(1, 1), padding=same)\n",
              "    (5): BatchNorm2d(512, eps=1e-05, momentum=0.1, affine=True, track_running_stats=True)\n",
              "    (6): ReLU()\n",
              "  )\n",
              "  (bottleneck23): Sequential(\n",
              "    (0): Conv2d(512, 128, kernel_size=(1, 1), stride=(1, 1), padding=same)\n",
              "    (1): BatchNorm2d(128, eps=1e-05, momentum=0.1, affine=True, track_running_stats=True)\n",
              "    (2): Conv2d(128, 128, kernel_size=(3, 3), stride=(1, 1), padding=same)\n",
              "    (3): BatchNorm2d(128, eps=1e-05, momentum=0.1, affine=True, track_running_stats=True)\n",
              "    (4): Conv2d(128, 512, kernel_size=(1, 1), stride=(1, 1), padding=same)\n",
              "    (5): BatchNorm2d(512, eps=1e-05, momentum=0.1, affine=True, track_running_stats=True)\n",
              "    (6): ReLU()\n",
              "  )\n",
              "  (bottleneck24): Sequential(\n",
              "    (0): Conv2d(512, 128, kernel_size=(1, 1), stride=(1, 1), padding=same)\n",
              "    (1): BatchNorm2d(128, eps=1e-05, momentum=0.1, affine=True, track_running_stats=True)\n",
              "    (2): Conv2d(128, 128, kernel_size=(3, 3), stride=(1, 1), padding=same)\n",
              "    (3): BatchNorm2d(128, eps=1e-05, momentum=0.1, affine=True, track_running_stats=True)\n",
              "    (4): Conv2d(128, 512, kernel_size=(1, 1), stride=(1, 1), padding=same)\n",
              "    (5): BatchNorm2d(512, eps=1e-05, momentum=0.1, affine=True, track_running_stats=True)\n",
              "    (6): ReLU()\n",
              "  )\n",
              "  (bottleneck31): Sequential(\n",
              "    (0): Conv2d(512, 256, kernel_size=(1, 1), stride=(1, 1), padding=same)\n",
              "    (1): BatchNorm2d(256, eps=1e-05, momentum=0.1, affine=True, track_running_stats=True)\n",
              "    (2): Conv2d(256, 256, kernel_size=(3, 3), stride=(2, 2), padding=(1, 1))\n",
              "    (3): BatchNorm2d(256, eps=1e-05, momentum=0.1, affine=True, track_running_stats=True)\n",
              "    (4): Conv2d(256, 1024, kernel_size=(1, 1), stride=(1, 1), padding=same)\n",
              "    (5): BatchNorm2d(1024, eps=1e-05, momentum=0.1, affine=True, track_running_stats=True)\n",
              "    (6): ReLU()\n",
              "  )\n",
              "  (down3): Sequential(\n",
              "    (0): Conv2d(512, 1024, kernel_size=(1, 1), stride=(2, 2))\n",
              "    (1): BatchNorm2d(1024, eps=1e-05, momentum=0.1, affine=True, track_running_stats=True)\n",
              "  )\n",
              "  (bottleneck32): Sequential(\n",
              "    (0): Conv2d(1024, 256, kernel_size=(1, 1), stride=(1, 1), padding=same)\n",
              "    (1): BatchNorm2d(256, eps=1e-05, momentum=0.1, affine=True, track_running_stats=True)\n",
              "    (2): Conv2d(256, 256, kernel_size=(3, 3), stride=(1, 1), padding=same)\n",
              "    (3): BatchNorm2d(256, eps=1e-05, momentum=0.1, affine=True, track_running_stats=True)\n",
              "    (4): Conv2d(256, 1024, kernel_size=(1, 1), stride=(1, 1), padding=same)\n",
              "    (5): BatchNorm2d(1024, eps=1e-05, momentum=0.1, affine=True, track_running_stats=True)\n",
              "    (6): ReLU()\n",
              "  )\n",
              "  (bottleneck33): Sequential(\n",
              "    (0): Conv2d(1024, 256, kernel_size=(1, 1), stride=(1, 1), padding=same)\n",
              "    (1): BatchNorm2d(256, eps=1e-05, momentum=0.1, affine=True, track_running_stats=True)\n",
              "    (2): Conv2d(256, 256, kernel_size=(3, 3), stride=(1, 1), padding=same)\n",
              "    (3): BatchNorm2d(256, eps=1e-05, momentum=0.1, affine=True, track_running_stats=True)\n",
              "    (4): Conv2d(256, 1024, kernel_size=(1, 1), stride=(1, 1), padding=same)\n",
              "    (5): BatchNorm2d(1024, eps=1e-05, momentum=0.1, affine=True, track_running_stats=True)\n",
              "    (6): ReLU()\n",
              "  )\n",
              "  (bottleneck34): Sequential(\n",
              "    (0): Conv2d(1024, 256, kernel_size=(1, 1), stride=(1, 1), padding=same)\n",
              "    (1): BatchNorm2d(256, eps=1e-05, momentum=0.1, affine=True, track_running_stats=True)\n",
              "    (2): Conv2d(256, 256, kernel_size=(3, 3), stride=(1, 1), padding=same)\n",
              "    (3): BatchNorm2d(256, eps=1e-05, momentum=0.1, affine=True, track_running_stats=True)\n",
              "    (4): Conv2d(256, 1024, kernel_size=(1, 1), stride=(1, 1), padding=same)\n",
              "    (5): BatchNorm2d(1024, eps=1e-05, momentum=0.1, affine=True, track_running_stats=True)\n",
              "    (6): ReLU()\n",
              "  )\n",
              "  (bottleneck35): Sequential(\n",
              "    (0): Conv2d(1024, 256, kernel_size=(1, 1), stride=(1, 1), padding=same)\n",
              "    (1): BatchNorm2d(256, eps=1e-05, momentum=0.1, affine=True, track_running_stats=True)\n",
              "    (2): Conv2d(256, 256, kernel_size=(3, 3), stride=(1, 1), padding=same)\n",
              "    (3): BatchNorm2d(256, eps=1e-05, momentum=0.1, affine=True, track_running_stats=True)\n",
              "    (4): Conv2d(256, 1024, kernel_size=(1, 1), stride=(1, 1), padding=same)\n",
              "    (5): BatchNorm2d(1024, eps=1e-05, momentum=0.1, affine=True, track_running_stats=True)\n",
              "    (6): ReLU()\n",
              "  )\n",
              "  (bottleneck36): Sequential(\n",
              "    (0): Conv2d(1024, 256, kernel_size=(1, 1), stride=(1, 1), padding=same)\n",
              "    (1): BatchNorm2d(256, eps=1e-05, momentum=0.1, affine=True, track_running_stats=True)\n",
              "    (2): Conv2d(256, 256, kernel_size=(3, 3), stride=(1, 1), padding=same)\n",
              "    (3): BatchNorm2d(256, eps=1e-05, momentum=0.1, affine=True, track_running_stats=True)\n",
              "    (4): Conv2d(256, 1024, kernel_size=(1, 1), stride=(1, 1), padding=same)\n",
              "    (5): BatchNorm2d(1024, eps=1e-05, momentum=0.1, affine=True, track_running_stats=True)\n",
              "    (6): ReLU()\n",
              "  )\n",
              "  (bottleneck41): Sequential(\n",
              "    (0): Conv2d(1024, 512, kernel_size=(1, 1), stride=(1, 1), padding=same)\n",
              "    (1): BatchNorm2d(512, eps=1e-05, momentum=0.1, affine=True, track_running_stats=True)\n",
              "    (2): Conv2d(512, 512, kernel_size=(3, 3), stride=(2, 2), padding=(1, 1))\n",
              "    (3): BatchNorm2d(512, eps=1e-05, momentum=0.1, affine=True, track_running_stats=True)\n",
              "    (4): Conv2d(512, 2048, kernel_size=(1, 1), stride=(1, 1), padding=same)\n",
              "    (5): BatchNorm2d(2048, eps=1e-05, momentum=0.1, affine=True, track_running_stats=True)\n",
              "    (6): ReLU()\n",
              "  )\n",
              "  (down4): Sequential(\n",
              "    (0): Conv2d(1024, 2048, kernel_size=(1, 1), stride=(2, 2))\n",
              "    (1): BatchNorm2d(2048, eps=1e-05, momentum=0.1, affine=True, track_running_stats=True)\n",
              "  )\n",
              "  (bottleneck42): Sequential(\n",
              "    (0): Conv2d(2048, 512, kernel_size=(1, 1), stride=(1, 1), padding=same)\n",
              "    (1): BatchNorm2d(512, eps=1e-05, momentum=0.1, affine=True, track_running_stats=True)\n",
              "    (2): Conv2d(512, 512, kernel_size=(3, 3), stride=(1, 1), padding=same)\n",
              "    (3): BatchNorm2d(512, eps=1e-05, momentum=0.1, affine=True, track_running_stats=True)\n",
              "    (4): Conv2d(512, 2048, kernel_size=(1, 1), stride=(1, 1), padding=same)\n",
              "    (5): BatchNorm2d(2048, eps=1e-05, momentum=0.1, affine=True, track_running_stats=True)\n",
              "    (6): ReLU()\n",
              "  )\n",
              "  (bottleneck43): Sequential(\n",
              "    (0): Conv2d(2048, 512, kernel_size=(1, 1), stride=(1, 1), padding=same)\n",
              "    (1): BatchNorm2d(512, eps=1e-05, momentum=0.1, affine=True, track_running_stats=True)\n",
              "    (2): Conv2d(512, 512, kernel_size=(3, 3), stride=(1, 1), padding=same)\n",
              "    (3): BatchNorm2d(512, eps=1e-05, momentum=0.1, affine=True, track_running_stats=True)\n",
              "    (4): Conv2d(512, 2048, kernel_size=(1, 1), stride=(1, 1), padding=same)\n",
              "    (5): BatchNorm2d(2048, eps=1e-05, momentum=0.1, affine=True, track_running_stats=True)\n",
              "    (6): ReLU()\n",
              "  )\n",
              "  (last): Sequential(\n",
              "    (0): AdaptiveAvgPool2d(output_size=(1, 1))\n",
              "    (1): Flatten(start_dim=1, end_dim=-1)\n",
              "    (2): Linear(in_features=2048, out_features=12, bias=True)\n",
              "  )\n",
              ")"
            ]
          },
          "metadata": {},
          "execution_count": 11
        }
      ]
    },
    {
      "cell_type": "code",
      "source": [
        "#Accuracy function\n",
        "def multiclass_accuracy(y_pred,y_true):\n",
        "  top_p,top_class = y_pred.topk(1,dim = 1)\n",
        "  equals = top_class == y_true.view(*top_class.shape)\n",
        "  return torch.mean(equals.type(torch.FloatTensor))"
      ],
      "metadata": {
        "id": "_XHEF4NR9ykW"
      },
      "execution_count": null,
      "outputs": []
    },
    {
      "cell_type": "code",
      "source": [
        "# train function\n",
        "from tqdm import tqdm\n",
        "def train(model, trainloader, optimizer, loss_func):\n",
        "  total_loss=0\n",
        "  total_accuracy=0\n",
        "  model.train()\n",
        "  for i, data in enumerate(tqdm(trainloader)):\n",
        "    image, label= data\n",
        "    image=image.to(device)\n",
        "    label=label.to(device)\n",
        "    optimizer.zero_grad()\n",
        "    pred=model(image)\n",
        "    loss=loss_func(pred, label)\n",
        "    total_loss+=loss.item()\n",
        "    loss.backward()\n",
        "    optimizer.step()\n",
        "    accuracy=multiclass_accuracy(pred, label)\n",
        "    total_accuracy+=accuracy\n",
        "  return total_loss/len(trainloader), total_accuracy/len(trainloader)\n"
      ],
      "metadata": {
        "id": "rEl7xEp9CuoE"
      },
      "execution_count": null,
      "outputs": []
    },
    {
      "cell_type": "code",
      "source": [
        "#Eval function\n",
        "def evall(model, loader, loss_func):\n",
        "  total_loss=0\n",
        "  total_accuracy=0\n",
        "  model.eval()\n",
        "  for i, data in enumerate(tqdm(loader)):\n",
        "    image, label= data\n",
        "    image=image.to(device)\n",
        "    label=label.to(device)\n",
        "    pred=model(image)\n",
        "    loss=loss_func(pred, label)\n",
        "    total_loss+=loss.item()\n",
        "    accuracy=multiclass_accuracy(pred, label)\n",
        "    total_accuracy+=accuracy\n",
        "  return total_loss/len(loader), total_accuracy/len(loader)"
      ],
      "metadata": {
        "id": "wN9BXlHa97m7"
      },
      "execution_count": null,
      "outputs": []
    },
    {
      "cell_type": "code",
      "source": [
        "#Training the model\n",
        "from torch import optim\n",
        "best_loss=np.Inf\n",
        "train_losss=[]\n",
        "valid_losss=[]\n",
        "for i in range(10):\n",
        "  train_loss, train_accuracy=train(model1, train_loader, model_optim, losss)\n",
        "  print(f\"Current epoch:{i},  train loss:{train_loss},  train accuracy:{train_accuracy}\")\n",
        "  train_losss.append(train_loss)\n",
        "  valid_loss, valid_accuracy=evall(model1, valid_loader, losss)\n",
        "  print(f\"Current epoch:{i},  valid loss:{valid_loss},  valid accuracy:{valid_accuracy}\")\n",
        "  valid_losss.append(valid_loss)\n",
        "  if valid_loss < best_loss:\n",
        "    torch.save(model1.state_dict(), \"/content/drive/MyDrive/classification_models/best_model_resnet.pt\")\n",
        "    best_loss=valid_loss\n",
        "\n",
        "\n"
      ],
      "metadata": {
        "colab": {
          "base_uri": "https://localhost:8080/"
        },
        "id": "PuOxpRwrCxUg",
        "outputId": "966238ff-250f-41d8-a33a-5694762dbe41"
      },
      "execution_count": null,
      "outputs": [
        {
          "output_type": "stream",
          "name": "stderr",
          "text": [
            "100%|██████████| 121/121 [15:17<00:00,  7.58s/it]\n"
          ]
        },
        {
          "output_type": "stream",
          "name": "stdout",
          "text": [
            "Current epoch:0,  train loss:1.8267873166021236,  train accuracy:0.40203166007995605\n"
          ]
        },
        {
          "output_type": "stream",
          "name": "stderr",
          "text": [
            "100%|██████████| 4/4 [00:27<00:00,  6.96s/it]\n"
          ]
        },
        {
          "output_type": "stream",
          "name": "stdout",
          "text": [
            "Current epoch:0,  valid loss:1.7164196819067001,  valid accuracy:0.5052083134651184\n"
          ]
        },
        {
          "output_type": "stream",
          "name": "stderr",
          "text": [
            "100%|██████████| 121/121 [00:25<00:00,  4.77it/s]\n"
          ]
        },
        {
          "output_type": "stream",
          "name": "stdout",
          "text": [
            "Current epoch:1,  train loss:1.1374064550912084,  train accuracy:0.6336088180541992\n"
          ]
        },
        {
          "output_type": "stream",
          "name": "stderr",
          "text": [
            "100%|██████████| 4/4 [00:00<00:00, 12.52it/s]\n"
          ]
        },
        {
          "output_type": "stream",
          "name": "stdout",
          "text": [
            "Current epoch:1,  valid loss:1.134137898683548,  valid accuracy:0.6145833134651184\n"
          ]
        },
        {
          "output_type": "stream",
          "name": "stderr",
          "text": [
            "100%|██████████| 121/121 [00:25<00:00,  4.75it/s]\n"
          ]
        },
        {
          "output_type": "stream",
          "name": "stdout",
          "text": [
            "Current epoch:2,  train loss:0.9285141030126367,  train accuracy:0.6995523571968079\n"
          ]
        },
        {
          "output_type": "stream",
          "name": "stderr",
          "text": [
            "100%|██████████| 4/4 [00:00<00:00, 12.04it/s]\n"
          ]
        },
        {
          "output_type": "stream",
          "name": "stdout",
          "text": [
            "Current epoch:2,  valid loss:0.70672507584095,  valid accuracy:0.7447916865348816\n"
          ]
        },
        {
          "output_type": "stream",
          "name": "stderr",
          "text": [
            "100%|██████████| 121/121 [00:25<00:00,  4.70it/s]\n"
          ]
        },
        {
          "output_type": "stream",
          "name": "stdout",
          "text": [
            "Current epoch:3,  train loss:0.6866722987456755,  train accuracy:0.7746211886405945\n"
          ]
        },
        {
          "output_type": "stream",
          "name": "stderr",
          "text": [
            "100%|██████████| 4/4 [00:00<00:00, 12.30it/s]\n"
          ]
        },
        {
          "output_type": "stream",
          "name": "stdout",
          "text": [
            "Current epoch:3,  valid loss:0.9545501247048378,  valid accuracy:0.7447916865348816\n"
          ]
        },
        {
          "output_type": "stream",
          "name": "stderr",
          "text": [
            "100%|██████████| 121/121 [00:25<00:00,  4.76it/s]\n"
          ]
        },
        {
          "output_type": "stream",
          "name": "stdout",
          "text": [
            "Current epoch:4,  train loss:0.5850175737349455,  train accuracy:0.8100895285606384\n"
          ]
        },
        {
          "output_type": "stream",
          "name": "stderr",
          "text": [
            "100%|██████████| 4/4 [00:00<00:00, 12.32it/s]\n"
          ]
        },
        {
          "output_type": "stream",
          "name": "stdout",
          "text": [
            "Current epoch:4,  valid loss:1.2763862907886505,  valid accuracy:0.609375\n"
          ]
        },
        {
          "output_type": "stream",
          "name": "stderr",
          "text": [
            "100%|██████████| 121/121 [00:25<00:00,  4.74it/s]\n"
          ]
        },
        {
          "output_type": "stream",
          "name": "stdout",
          "text": [
            "Current epoch:5,  train loss:0.5100420427716468,  train accuracy:0.821969747543335\n"
          ]
        },
        {
          "output_type": "stream",
          "name": "stderr",
          "text": [
            "100%|██████████| 4/4 [00:00<00:00, 12.31it/s]\n"
          ]
        },
        {
          "output_type": "stream",
          "name": "stdout",
          "text": [
            "Current epoch:5,  valid loss:1.2005533799529076,  valid accuracy:0.7083333134651184\n"
          ]
        },
        {
          "output_type": "stream",
          "name": "stderr",
          "text": [
            "100%|██████████| 121/121 [00:25<00:00,  4.69it/s]\n"
          ]
        },
        {
          "output_type": "stream",
          "name": "stdout",
          "text": [
            "Current epoch:6,  train loss:0.4834055937210883,  train accuracy:0.8386707901954651\n"
          ]
        },
        {
          "output_type": "stream",
          "name": "stderr",
          "text": [
            "100%|██████████| 4/4 [00:00<00:00, 12.34it/s]\n"
          ]
        },
        {
          "output_type": "stream",
          "name": "stdout",
          "text": [
            "Current epoch:6,  valid loss:0.9954808801412582,  valid accuracy:0.7604166865348816\n"
          ]
        },
        {
          "output_type": "stream",
          "name": "stderr",
          "text": [
            "100%|██████████| 121/121 [00:25<00:00,  4.73it/s]\n"
          ]
        },
        {
          "output_type": "stream",
          "name": "stdout",
          "text": [
            "Current epoch:7,  train loss:0.4572225886681848,  train accuracy:0.852617084980011\n"
          ]
        },
        {
          "output_type": "stream",
          "name": "stderr",
          "text": [
            "100%|██████████| 4/4 [00:00<00:00, 12.59it/s]\n"
          ]
        },
        {
          "output_type": "stream",
          "name": "stdout",
          "text": [
            "Current epoch:7,  valid loss:0.592417698353529,  valid accuracy:0.859375\n"
          ]
        },
        {
          "output_type": "stream",
          "name": "stderr",
          "text": [
            "100%|██████████| 121/121 [00:28<00:00,  4.32it/s]\n"
          ]
        },
        {
          "output_type": "stream",
          "name": "stdout",
          "text": [
            "Current epoch:8,  train loss:0.37069299189019794,  train accuracy:0.8820592164993286\n"
          ]
        },
        {
          "output_type": "stream",
          "name": "stderr",
          "text": [
            "100%|██████████| 4/4 [00:00<00:00, 12.58it/s]\n"
          ]
        },
        {
          "output_type": "stream",
          "name": "stdout",
          "text": [
            "Current epoch:8,  valid loss:1.0936876684427261,  valid accuracy:0.78125\n"
          ]
        },
        {
          "output_type": "stream",
          "name": "stderr",
          "text": [
            "100%|██████████| 121/121 [00:25<00:00,  4.76it/s]\n"
          ]
        },
        {
          "output_type": "stream",
          "name": "stdout",
          "text": [
            "Current epoch:9,  train loss:0.362071807411584,  train accuracy:0.8836088180541992\n"
          ]
        },
        {
          "output_type": "stream",
          "name": "stderr",
          "text": [
            "100%|██████████| 4/4 [00:00<00:00, 12.55it/s]"
          ]
        },
        {
          "output_type": "stream",
          "name": "stdout",
          "text": [
            "Current epoch:9,  valid loss:0.857240092009306,  valid accuracy:0.84375\n"
          ]
        },
        {
          "output_type": "stream",
          "name": "stderr",
          "text": [
            "\n"
          ]
        }
      ]
    },
    {
      "cell_type": "code",
      "source": [
        "def loss_curve(epochs, train_losss, valid_losss):\n",
        "  epochs = list(range(1, epochs + 1))\n",
        "  plt.figure(figsize=(10, 5))\n",
        "  plt.xlabel(\"Epoch\")\n",
        "  plt.ylabel(\"Loss\")\n",
        "\n",
        "  plt.plot(epochs[1:], train_losss[1:], label=\"Training Loss\")\n",
        "  plt.plot(epochs[1:], valid_losss[1:], label=\"Validation Loss\")\n",
        "  plt.legend()\n",
        "  merged_losses = train_losss[1:] + valid_losss[1:]\n",
        "  highest_loss = max(merged_losses)\n",
        "  lowest_loss = min(merged_losses)\n",
        "  delta = highest_loss - lowest_loss\n",
        "  print(delta)\n",
        "\n",
        "  top_of_y_axis = highest_loss + (delta * 0.05)\n",
        "  bottom_of_y_axis = lowest_loss - (delta * 0.05)\n",
        "  plt.title('loss curve')\n",
        "  plt.ylim([bottom_of_y_axis, top_of_y_axis])\n",
        "  plt.show()"
      ],
      "metadata": {
        "id": "S1zPIsquCzfR"
      },
      "execution_count": null,
      "outputs": []
    },
    {
      "cell_type": "code",
      "source": [
        "loss_curve(10, train_losss, valid_losss)"
      ],
      "metadata": {
        "colab": {
          "base_uri": "https://localhost:8080/",
          "height": 504
        },
        "id": "Bzq3O7PMC8uc",
        "outputId": "cb7e5061-76f8-41e7-c201-33ac8349df9a"
      },
      "execution_count": null,
      "outputs": [
        {
          "output_type": "stream",
          "name": "stdout",
          "text": [
            "0.9143144833770664\n"
          ]
        },
        {
          "output_type": "display_data",
          "data": {
            "text/plain": [
              "<Figure size 1000x500 with 1 Axes>"
            ],
            "image/png": "[encoded data removed]"
          },
          "metadata": {}
        }
      ]
    },
    {
      "cell_type": "code",
      "source": [
        "test_loss, test_accuracy=evall(model1, test_loader, losss)\n",
        "print(f\"Test loss:{test_loss},  Test accuracy:{test_accuracy}\")"
      ],
      "metadata": {
        "colab": {
          "base_uri": "https://localhost:8080/"
        },
        "id": "CL2eaVGgC-Yg",
        "outputId": "22958d29-b160-4c12-976e-3fa6c15cb082"
      },
      "execution_count": null,
      "outputs": [
        {
          "output_type": "stream",
          "name": "stderr",
          "text": [
            "100%|██████████| 60/60 [00:28<00:00,  2.10it/s]"
          ]
        },
        {
          "output_type": "stream",
          "name": "stdout",
          "text": [
            "Test loss:0.32629487583634537,  Test accuracy:0.8833333253860474\n"
          ]
        },
        {
          "output_type": "stream",
          "name": "stderr",
          "text": [
            "\n"
          ]
        }
      ]
    }
  ]
}